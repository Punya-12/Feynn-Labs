{
  "nbformat": 4,
  "nbformat_minor": 0,
  "metadata": {
    "colab": {
      "provenance": []
    },
    "kernelspec": {
      "name": "python3",
      "display_name": "Python 3"
    },
    "language_info": {
      "name": "python"
    }
  },
  "cells": [
    {
      "cell_type": "code",
      "execution_count": 2,
      "metadata": {
        "colab": {
          "base_uri": "https://localhost:8080/"
        },
        "id": "zvLpGJS1_IIa",
        "outputId": "78970192-35c6-4537-f524-8d32dfd5d648"
      },
      "outputs": [
        {
          "output_type": "stream",
          "name": "stdout",
          "text": [
            "Mounted at /content/drive\n"
          ]
        }
      ],
      "source": [
        "from google.colab import drive\n",
        "drive.mount('/content/drive')"
      ]
    },
    {
      "cell_type": "code",
      "source": [
        "import pandas as pd\n",
        "import numpy as np\n",
        "import matplotlib.pyplot as plt\n",
        "import seaborn as sns\n",
        "from sklearn.preprocessing import StandardScaler, LabelEncoder\n",
        "from sklearn.decomposition import PCA\n",
        "from sklearn.cluster import KMeans\n",
        "from sklearn.tree import DecisionTreeClassifier\n",
        "from sklearn.model_selection import train_test_split, GridSearchCV\n",
        "from sklearn.metrics import classification_report, confusion_matrix, accuracy_score\n",
        "import warnings\n",
        "\n",
        "warnings.filterwarnings('ignore')  # Suppress warnings\n",
        "\n",
        "# Load the dataset\n",
        "df = pd.read_csv('/content/drive/MyDrive/mcdonalds.csv')\n",
        "\n",
        "# Inspect the dataset\n",
        "print(df.head())\n",
        "print(df.shape)\n",
        "print(df.info())\n",
        "print(df.describe())\n",
        "print(df.isnull().sum())\n"
      ],
      "metadata": {
        "colab": {
          "base_uri": "https://localhost:8080/"
        },
        "id": "ldFH0vQ8CFv5",
        "outputId": "599dd784-337b-4e87-e085-f9ffc08341b0"
      },
      "execution_count": 4,
      "outputs": [
        {
          "output_type": "stream",
          "name": "stdout",
          "text": [
            "  yummy convenient spicy fattening greasy fast cheap tasty expensive healthy  \\\n",
            "0    No        Yes    No       Yes     No  Yes   Yes    No       Yes      No   \n",
            "1   Yes        Yes    No       Yes    Yes  Yes   Yes   Yes       Yes      No   \n",
            "2    No        Yes   Yes       Yes    Yes  Yes    No   Yes       Yes     Yes   \n",
            "3   Yes        Yes    No       Yes    Yes  Yes   Yes   Yes        No      No   \n",
            "4    No        Yes    No       Yes    Yes  Yes   Yes    No        No     Yes   \n",
            "\n",
            "  disgusting Like  Age      VisitFrequency  Gender  \n",
            "0         No   -3   61  Every three months  Female  \n",
            "1         No   +2   51  Every three months  Female  \n",
            "2         No   +1   62  Every three months  Female  \n",
            "3        Yes   +4   69         Once a week  Female  \n",
            "4         No   +2   49        Once a month    Male  \n",
            "(1453, 15)\n",
            "<class 'pandas.core.frame.DataFrame'>\n",
            "RangeIndex: 1453 entries, 0 to 1452\n",
            "Data columns (total 15 columns):\n",
            " #   Column          Non-Null Count  Dtype \n",
            "---  ------          --------------  ----- \n",
            " 0   yummy           1453 non-null   object\n",
            " 1   convenient      1453 non-null   object\n",
            " 2   spicy           1453 non-null   object\n",
            " 3   fattening       1453 non-null   object\n",
            " 4   greasy          1453 non-null   object\n",
            " 5   fast            1453 non-null   object\n",
            " 6   cheap           1453 non-null   object\n",
            " 7   tasty           1453 non-null   object\n",
            " 8   expensive       1453 non-null   object\n",
            " 9   healthy         1453 non-null   object\n",
            " 10  disgusting      1453 non-null   object\n",
            " 11  Like            1453 non-null   object\n",
            " 12  Age             1453 non-null   int64 \n",
            " 13  VisitFrequency  1453 non-null   object\n",
            " 14  Gender          1453 non-null   object\n",
            "dtypes: int64(1), object(14)\n",
            "memory usage: 170.4+ KB\n",
            "None\n",
            "               Age\n",
            "count  1453.000000\n",
            "mean     44.604955\n",
            "std      14.221178\n",
            "min      18.000000\n",
            "25%      33.000000\n",
            "50%      45.000000\n",
            "75%      57.000000\n",
            "max      71.000000\n",
            "yummy             0\n",
            "convenient        0\n",
            "spicy             0\n",
            "fattening         0\n",
            "greasy            0\n",
            "fast              0\n",
            "cheap             0\n",
            "tasty             0\n",
            "expensive         0\n",
            "healthy           0\n",
            "disgusting        0\n",
            "Like              0\n",
            "Age               0\n",
            "VisitFrequency    0\n",
            "Gender            0\n",
            "dtype: int64\n"
          ]
        }
      ]
    },
    {
      "cell_type": "code",
      "source": [
        "# Handle missing values in 'Like' and 'Age' columns\n",
        "df['Like'] = df['Like'].replace({'I love it!+5': 5, 'I hate it!-5': -5})\n",
        "df['Like'] = pd.to_numeric(df['Like'], errors='coerce')\n",
        "df['Like'].fillna(df['Like'].mean(), inplace=True)\n",
        "df['Age'].fillna(df['Age'].mean(), inplace=True)\n",
        "\n",
        "# Drop unnecessary columns (like 'Gender' or any other non-numeric columns)\n",
        "df.drop(columns=['Gender'], axis=1, inplace=True)\n",
        "\n",
        "# Encode categorical columns\n",
        "le = LabelEncoder()\n",
        "for column in df.select_dtypes(include=['object']).columns:\n",
        "    df[column] = le.fit_transform(df[column])\n",
        "\n",
        "# Standardize the dataset\n",
        "scaler = StandardScaler()\n",
        "scaled_df = scaler.fit_transform(df)\n"
      ],
      "metadata": {
        "id": "EJ8ITD4UCho2"
      },
      "execution_count": 5,
      "outputs": []
    },
    {
      "cell_type": "code",
      "source": [
        "pca = PCA(n_components=2)\n",
        "principal_components = pca.fit_transform(scaled_df)\n",
        "pca_df = pd.DataFrame(data=principal_components, columns=[\"PCA1\", \"PCA2\"])\n",
        "print(pca_df.head())\n"
      ],
      "metadata": {
        "colab": {
          "base_uri": "https://localhost:8080/"
        },
        "id": "oDUeg9iICntj",
        "outputId": "0db60e49-0abd-4b82-ae15-a1f7db7265d9"
      },
      "execution_count": 6,
      "outputs": [
        {
          "output_type": "stream",
          "name": "stdout",
          "text": [
            "       PCA1      PCA2\n",
            "0  1.348359 -1.035403\n",
            "1 -0.722354  0.911410\n",
            "2  0.140645  0.789842\n",
            "3 -0.374337 -0.737845\n",
            "4  0.006629 -1.424720\n"
          ]
        }
      ]
    },
    {
      "cell_type": "code",
      "source": [
        "# Find optimal K using Elbow Method\n",
        "inertia = []\n",
        "for i in range(1, 11):\n",
        "    kmean = KMeans(n_clusters=i, random_state=42)\n",
        "    kmean.fit(scaled_df)\n",
        "    inertia.append(kmean.inertia_)\n",
        "\n",
        "# Plot inertia values\n",
        "plt.plot(range(1, 11), inertia, 'bx-')\n",
        "plt.xlabel('Number of Clusters (K)')\n",
        "plt.ylabel('Inertia')\n",
        "plt.title('The Elbow Method for Optimal K')\n",
        "plt.show()\n",
        "\n",
        "# Fit KMeans with the chosen number of clusters\n",
        "kmeans_model = KMeans(n_clusters=4, random_state=42)\n",
        "kmeans_model.fit(scaled_df)\n",
        "df['Cluster'] = kmeans_model.labels_\n"
      ],
      "metadata": {
        "colab": {
          "base_uri": "https://localhost:8080/",
          "height": 472
        },
        "id": "0PCs5xBlCp5j",
        "outputId": "c9de0796-e742-4f63-b187-d1265f62d1d4"
      },
      "execution_count": 7,
      "outputs": [
        {
          "output_type": "display_data",
          "data": {
            "text/plain": [
              "<Figure size 640x480 with 1 Axes>"
            ],
            "image/png": "[encoded data removed]"
          },
          "metadata": {}
        }
      ]
    },
    {
      "cell_type": "code",
      "source": [
        "# Split the data\n",
        "X = df.drop(['Cluster'], axis=1)\n",
        "y = df['Cluster']\n",
        "X_train, X_test, y_train, y_test = train_test_split(X, y, test_size=0.3, random_state=42)\n",
        "\n",
        "# Initialize the Decision Tree classifier\n",
        "model = DecisionTreeClassifier()\n",
        "\n",
        "# Set up the parameter grid for hyperparameter tuning\n",
        "param_grid = {\n",
        "    'criterion': ['gini', 'entropy'],\n",
        "    'max_depth': [None, 10, 20, 30, 40, 50],\n",
        "    'min_samples_split': [2, 5, 10],\n",
        "    'min_samples_leaf': [1, 2, 4]\n",
        "}\n",
        "\n",
        "# Use GridSearchCV for hyperparameter tuning\n",
        "grid_search = GridSearchCV(model, param_grid, cv=5, scoring='accuracy')\n",
        "grid_search.fit(X_train, y_train)\n",
        "\n",
        "# Get the best model\n",
        "best_model = grid_search.best_estimator_\n",
        "print(f\"Best parameters found: {grid_search.best_params_}\")\n",
        "\n",
        "# Make predictions\n",
        "y_pred = best_model.predict(X_test)\n",
        "\n",
        "# Evaluate the model\n",
        "accuracy = accuracy_score(y_test, y_pred)\n",
        "print(f\"Accuracy: {accuracy:.2f}\")\n",
        "print(\"Confusion Matrix:\")\n",
        "print(confusion_matrix(y_test, y_pred))\n",
        "print(\"Classification Report:\")\n",
        "print(classification_report(y_test, y_pred))\n"
      ],
      "metadata": {
        "colab": {
          "base_uri": "https://localhost:8080/"
        },
        "id": "X2qKBsiCCvTH",
        "outputId": "c474bc68-6165-4dfa-e7b3-c2bf5e2ee61c"
      },
      "execution_count": 8,
      "outputs": [
        {
          "output_type": "stream",
          "name": "stdout",
          "text": [
            "Best parameters found: {'criterion': 'entropy', 'max_depth': None, 'min_samples_leaf': 4, 'min_samples_split': 2}\n",
            "Accuracy: 0.94\n",
            "Confusion Matrix:\n",
            "[[ 47   0   2   0]\n",
            " [  0 156   3   0]\n",
            " [  3   9 114   5]\n",
            " [  1   3   2  91]]\n",
            "Classification Report:\n",
            "              precision    recall  f1-score   support\n",
            "\n",
            "           0       0.92      0.96      0.94        49\n",
            "           1       0.93      0.98      0.95       159\n",
            "           2       0.94      0.87      0.90       131\n",
            "           3       0.95      0.94      0.94        97\n",
            "\n",
            "    accuracy                           0.94       436\n",
            "   macro avg       0.94      0.94      0.94       436\n",
            "weighted avg       0.94      0.94      0.94       436\n",
            "\n"
          ]
        }
      ]
    },
    {
      "cell_type": "code",
      "source": [
        "import pickle\n",
        "\n",
        "# Save the model\n",
        "filename = 'optimized_decision_tree_model.sav'\n",
        "with open(filename, 'wb') as file:\n",
        "    pickle.dump(best_model, file)\n",
        "\n",
        "# Load the model from the file\n",
        "with open(filename, 'rb') as file:\n",
        "    loaded_model = pickle.load(file)\n",
        "\n",
        "# Evaluate the loaded model\n",
        "loaded_model_accuracy = loaded_model.score(X_test, y_test)\n",
        "print(f'Loaded Model Accuracy: {loaded_model_accuracy * 100:.2f}%')\n"
      ],
      "metadata": {
        "colab": {
          "base_uri": "https://localhost:8080/"
        },
        "id": "OezOOcW2C3XI",
        "outputId": "ea13bad6-94c0-4dde-a31a-a82426984600"
      },
      "execution_count": 9,
      "outputs": [
        {
          "output_type": "stream",
          "name": "stdout",
          "text": [
            "Loaded Model Accuracy: 93.58%\n"
          ]
        }
      ]
    },
    {
      "cell_type": "code",
      "source": [],
      "metadata": {
        "id": "YvGfNZAQC7tJ"
      },
      "execution_count": null,
      "outputs": []
    }
  ]
}